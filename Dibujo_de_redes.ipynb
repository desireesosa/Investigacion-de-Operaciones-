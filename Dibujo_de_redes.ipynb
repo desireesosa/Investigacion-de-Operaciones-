{
  "nbformat": 4,
  "nbformat_minor": 0,
  "metadata": {
    "colab": {
      "provenance": [],
      "authorship_tag": "ABX9TyM+q+J6ay4Dxt46Ig2cchTJ",
      "include_colab_link": true
    },
    "kernelspec": {
      "name": "python3",
      "display_name": "Python 3"
    },
    "language_info": {
      "name": "python"
    }
  },
  "cells": [
    {
      "cell_type": "markdown",
      "metadata": {
        "id": "view-in-github",
        "colab_type": "text"
      },
      "source": [
        "<a href=\"https://colab.research.google.com/github/desireesosa/Investigacion-de-Operaciones-/blob/main/Dibujo_de_redes.ipynb\" target=\"_parent\"><img src=\"https://colab.research.google.com/assets/colab-badge.svg\" alt=\"Open In Colab\"/></a>"
      ]
    },
    {
      "cell_type": "markdown",
      "source": [
        "## **Conexiones de NODOS** \\\n",
        "*Para poder realizar un grafico dirigido utilizamos la libreria **Networkx**, esta libreria de teoria de graficas para Python la cual permite trabajar con graficas sin tener que definir nuestras propias estructuras.*\n",
        "\n",
        "*Networkx no es una librería default de Python (necesita previa intalacion) y se utiliza **nx** para ahorrar escritura.*\n",
        "\n",
        "*Una forma rápida de iniciar una gráfica es creando un objeto Graph y usando el método add_edges_from. Esto automáticamente genera la lista de vértices.*"
      ],
      "metadata": {
        "id": "_dgg0i8pbqCw"
      }
    },
    {
      "cell_type": "code",
      "execution_count": 3,
      "metadata": {
        "id": "VjMg9EjzXRdF"
      },
      "outputs": [],
      "source": [
        "import networkx as nx"
      ]
    },
    {
      "cell_type": "markdown",
      "source": [
        "*Con la libreria previamente instalada definimos un **G** para obtener un grafo dirigido vacio*"
      ],
      "metadata": {
        "id": "-nEZJ_TXdDV2"
      }
    },
    {
      "cell_type": "code",
      "source": [
        "G=nx.DiGraph()"
      ],
      "metadata": {
        "id": "551TxmxTcxJV"
      },
      "execution_count": 4,
      "outputs": []
    },
    {
      "cell_type": "markdown",
      "source": [
        "**Se pueden consultar los vértices y las aristas de una gráfica mediante los atributos nodes y edges respectivamente. Estos son tipos de objeto especiales que en la duda conviene convertir a lista.**\n",
        "\n",
        "*Definimos las conexiones de NODOS que queramos graficar:*"
      ],
      "metadata": {
        "id": "EhAMphqadYZE"
      }
    },
    {
      "cell_type": "code",
      "source": [
        "G.add_edge(\"A\",\"B\", capacity=2)\n",
        "G.add_edge(\"B\", \"C\", capacity=2)\n",
        "G.add_edge(\"A\", \"C\", capacity=2)\n",
        "G.add_edge(\"B\", \"D\", capacity=2)\n",
        "G.add_edge(\"C\", \"D\", capacity=2)"
      ],
      "metadata": {
        "id": "nff_0O99ZAtP"
      },
      "execution_count": 5,
      "outputs": []
    },
    {
      "cell_type": "markdown",
      "source": [
        "*Una parte fundamental del análisis de redes es la exploración gráfica.*\n",
        "\n",
        "\n",
        "*Este proceso se vuelve más difícil a medida que la red aumenta de tamaño.*\n",
        "\n"
      ],
      "metadata": {
        "id": "4oT_93aFMBUQ"
      }
    },
    {
      "cell_type": "code",
      "source": [
        "import matplotlib.pyplot as plt\n",
        "from matplotlib.lines import Line2D\n",
        "\n",
        "node_colors = [\"green\" for node in G.nodes()]\n",
        "nx.draw_networkx(G, node_color=node_colors)"
      ],
      "metadata": {
        "colab": {
          "base_uri": "https://localhost:8080/",
          "height": 406
        },
        "id": "U-zY5cW5aLsv",
        "outputId": "7760e881-62a4-4417-9411-6c69d2fc6e17"
      },
      "execution_count": 6,
      "outputs": [
        {
          "output_type": "display_data",
          "data": {
            "text/plain": [
              "<Figure size 640x480 with 1 Axes>"
            ],
            "image/png": "[encoded data removed]"
          },
          "metadata": {}
        }
      ]
    },
    {
      "cell_type": "markdown",
      "source": [
        "*Imprimimos el valor de **G** y graficamos para obtener el sistema de redes. Opcionalmente, se pueden etiquetar los nodos por su nombre, colorearlos, cambiar el estilo de las aristas, etc. También se puede dar un objeto ax de Matplotlib sobre el cual dibujar. Esto permite utilizar toda la flexibilidad de Matplotlib para determinar tamaños, títulos, leyendas, posiciones, etc.*"
      ],
      "metadata": {
        "id": "CnhpFlBed-ex"
      }
    },
    {
      "cell_type": "markdown",
      "source": [
        "**PROPIEDADES DE NODOS Y ARCOS.**\n",
        "\n",
        "*Se utilizan diferentes funciones para poder ver el número de nodos que tiene la red*\n",
        "\n",
        "*Definimos:*\n",
        "\n",
        "\n",
        "\n",
        "*   Nodes: Nodos de la red.\n",
        "*   Number_of_nodes: Numero de nodos que contiene la red.\n",
        "* Numbe_of_edges: NUmero de arcos que tiene la red.\n",
        "* Edges: Cómo se conectan los nodos en cada arco.\n",
        "* Degree: Conexiones que contiene cada nodo."
      ],
      "metadata": {
        "id": "_eXmMuoWWKRO"
      }
    },
    {
      "cell_type": "code",
      "source": [
        "#Nodos que tiene la red\n",
        "nx.nodes(G)\n",
        "print(\"Los nodos que tiene la red son:\" , nx.nodes(G))"
      ],
      "metadata": {
        "colab": {
          "base_uri": "https://localhost:8080/"
        },
        "id": "28kLNy0iXBDK",
        "outputId": "4c379aec-576e-44fc-8abf-878ceb165dd2"
      },
      "execution_count": 7,
      "outputs": [
        {
          "output_type": "stream",
          "name": "stdout",
          "text": [
            "Los nodos que tiene la red son: ['A', 'B', 'C', 'D']\n"
          ]
        }
      ]
    },
    {
      "cell_type": "code",
      "source": [
        "#Numero de nodos que tiene la red\n",
        "nx.number_of_nodes(G)\n",
        "print(\"El numero de nodos que tiene la red son:\" , nx.number_of_nodes(G))"
      ],
      "metadata": {
        "colab": {
          "base_uri": "https://localhost:8080/"
        },
        "id": "OFVm7b9tXWPZ",
        "outputId": "25db6697-dc22-4132-fef3-438c44684b3b"
      },
      "execution_count": 8,
      "outputs": [
        {
          "output_type": "stream",
          "name": "stdout",
          "text": [
            "El numero de nodos que tiene la red son: 4\n"
          ]
        }
      ]
    },
    {
      "cell_type": "code",
      "source": [
        "#Numero de arcos que tiene la red\n",
        "nx.number_of_edges(G)\n",
        "print(\"El numero de arcos que tiene la red son:\" , nx.number_of_edges(G))"
      ],
      "metadata": {
        "colab": {
          "base_uri": "https://localhost:8080/"
        },
        "id": "QVf9gBJDXcgA",
        "outputId": "1d657d95-3f35-4e1a-fd25-abb84ccc9851"
      },
      "execution_count": 9,
      "outputs": [
        {
          "output_type": "stream",
          "name": "stdout",
          "text": [
            "El numero de arcos que tiene la red son: 5\n"
          ]
        }
      ]
    },
    {
      "cell_type": "code",
      "source": [
        "#Conexiones de los nodos en cada arco\n",
        "nx.edges(G)\n",
        "print(\"Las conexiones de los nodos en cada arco son:\" , nx.edges(G))"
      ],
      "metadata": {
        "colab": {
          "base_uri": "https://localhost:8080/"
        },
        "id": "lIqH5JyqXhpB",
        "outputId": "2fa3832a-faed-47ed-f2c6-f2fce2fcde4c"
      },
      "execution_count": 10,
      "outputs": [
        {
          "output_type": "stream",
          "name": "stdout",
          "text": [
            "Las conexiones de los nodos en cada arco son: [('A', 'B'), ('A', 'C'), ('B', 'C'), ('B', 'D'), ('C', 'D')]\n"
          ]
        }
      ]
    },
    {
      "cell_type": "code",
      "source": [
        "#Grado de cada nodo, es decir cuantas conexiones contiene cada nodo\n",
        "nx.degree(G)\n",
        "print(\"El grado de cada nodo es:\" , nx.degree(G))"
      ],
      "metadata": {
        "colab": {
          "base_uri": "https://localhost:8080/"
        },
        "id": "RgeDCTrYX4yr",
        "outputId": "3e95ec90-d53b-4131-c7f0-81ba6dd9174c"
      },
      "execution_count": 11,
      "outputs": [
        {
          "output_type": "stream",
          "name": "stdout",
          "text": [
            "El grado de cada nodo es: [('A', 2), ('B', 3), ('C', 3), ('D', 2)]\n"
          ]
        }
      ]
    },
    {
      "cell_type": "markdown",
      "source": [
        "*Ademas de esto, existen diferentes medidas de centralidad que ayudan a identificar que nodos son más importantes.*\n",
        "\n",
        "\n",
        "*   Closeness: Cercania de un nodo de los demas.\n",
        "*   Betweenness: Caminos que pasan por el nodo.\n",
        "\n"
      ],
      "metadata": {
        "id": "mZXFqdilYBnr"
      }
    },
    {
      "cell_type": "code",
      "source": [
        "#Centralidad de cercania\n",
        "nx.closeness_centrality(G)\n",
        "print(\"La centralidad de cercania es:\" , nx.closeness_centrality(G))"
      ],
      "metadata": {
        "colab": {
          "base_uri": "https://localhost:8080/"
        },
        "id": "jyOZqbLUYblJ",
        "outputId": "baad3d24-337f-4515-ebe3-83b695b0c6d4"
      },
      "execution_count": 12,
      "outputs": [
        {
          "output_type": "stream",
          "name": "stdout",
          "text": [
            "La centralidad de cercania es: {'A': 0.0, 'B': 0.3333333333333333, 'C': 0.6666666666666666, 'D': 0.75}\n"
          ]
        }
      ]
    },
    {
      "cell_type": "code",
      "source": [
        "#Centralidad de caminos\n",
        "nx.betweenness_centrality(G)\n",
        "print(\"La centralidad de caminos es:\" , nx.betweenness_centrality(G))"
      ],
      "metadata": {
        "colab": {
          "base_uri": "https://localhost:8080/"
        },
        "id": "QP_ZI_r8a6Ri",
        "outputId": "527c9e26-c60b-4106-b8ef-e7b881a5aa22"
      },
      "execution_count": 13,
      "outputs": [
        {
          "output_type": "stream",
          "name": "stdout",
          "text": [
            "La centralidad de caminos es: {'A': 0.0, 'B': 0.08333333333333333, 'C': 0.08333333333333333, 'D': 0.0}\n"
          ]
        }
      ]
    },
    {
      "cell_type": "markdown",
      "source": [
        "**Caminos más CORTOS**\n",
        "\n",
        "*También podemos encontrar el camino más corto entre dos nodos. **El camino más corto entre dos nodos es la ruta con menos arcos que los conecta.***\n",
        "\n",
        "\n",
        "\n",
        "1.   Devuelve camino: $nx.shortest$_$path(G, source, target).$\n",
        "2.   Devuelve longitud: $nx.shortest$_$path$_$lenght(G, source, target)$\n",
        "\n"
      ],
      "metadata": {
        "id": "OOzkEs6Ka-vN"
      }
    },
    {
      "cell_type": "code",
      "source": [
        "#aplicamos un ejemplo de camino mas corto\n",
        "nx.shortest_path(G, \"A\", \"B\")\n",
        "nx.shortest_path_length(G, \"A\", \"B\")\n",
        "\n",
        "print(\"La longitud del camino mas corto entre A y B es:\" , nx.shortest_path_length(G, \"A\", \"B\"))\n",
        "print(\"El camino mas corto entre A y B es:\" , nx.shortest_path(G, \"A\", \"B\"))"
      ],
      "metadata": {
        "colab": {
          "base_uri": "https://localhost:8080/"
        },
        "id": "K_K2d1IKbraY",
        "outputId": "dc840374-7421-4c9a-dc6d-aeaccdbd9829"
      },
      "execution_count": 14,
      "outputs": [
        {
          "output_type": "stream",
          "name": "stdout",
          "text": [
            "La longitud del camino mas corto entre A y B es: 1\n",
            "El camino mas corto entre A y B es: ['A', 'B']\n"
          ]
        }
      ]
    },
    {
      "cell_type": "markdown",
      "source": [
        "## **Árbol de expansión mínima**\n",
        "\n",
        "*Es un árbol que enlaza todos los nodos de la red sin permitir ciclos. Se busca determinar la red de menor longitud.*\n",
        "\n",
        "*Definimos:*\n",
        "\n",
        "\n",
        "1.   **G**: Grafo no dirigido con peso en las aristas.\n",
        "2.   **weight**: Nombre del atributo con peso en las aristas.\n",
        "\n",
        "Realizamos un ejemplo para observar de mejor manera el árbol.\n",
        "\n"
      ],
      "metadata": {
        "id": "d99qAYyqbrwl"
      }
    },
    {
      "cell_type": "code",
      "source": [
        "#definimos el arbol\n",
        "def arbol_expan(G, weight):\n",
        "  return nx.minimum_spanning_tree(G, weight)\n",
        ""
      ],
      "metadata": {
        "id": "jhpt0qIV7k--"
      },
      "execution_count": 15,
      "outputs": []
    },
    {
      "cell_type": "markdown",
      "source": [
        "**Tomamos un ejemplo de clase:**\n",
        "\n",
        "*Una compaña de TV quiere proporcionar servicio de cable a 5 nuevas áreas habitacionales,la figura muestra las conexiones posibles. La distancia está en millas.*"
      ],
      "metadata": {
        "id": "ZcRfmIlV7xgH"
      }
    },
    {
      "cell_type": "code",
      "source": [
        "#grafo de ejemplo\n",
        "G=nx.Graph()\n",
        "G.add_edge(\"1\",\"2\",capacity=1, weight=1)\n",
        "G.add_edge(\"1\", \"3\", capacity=1, weight=5)\n",
        "G.add_edge(\"1\", \"5\", capacity=1, weight=9)\n",
        "G.add_edge(\"1\", \"4\", capacity=1, weight=7)\n",
        "G.add_edge(\"2\", \"4\", capacity=1, weight=4)\n",
        "G.add_edge(\"2\", \"3\", capacity=1, weight=6)\n",
        "G.add_edge(\"2\", \"5\", capacity=1, weight=3)\n",
        "G.add_edge(\"3\", \"4\", capacity=1, weight=5)\n",
        "G.add_edge(\"3\", \"6\", capacity=1, weight=10)\n",
        "G.add_edge(\"4\", \"5\", capacity=1, weight=8)\n",
        "G.add_edge(\"4\", \"6\", capacity=1, weight=3)"
      ],
      "metadata": {
        "id": "_y9Z6VdC8jbj"
      },
      "execution_count": 16,
      "outputs": []
    },
    {
      "cell_type": "code",
      "source": [
        "#impresion del arbol\n",
        "nx.draw_networkx(G)"
      ],
      "metadata": {
        "colab": {
          "base_uri": "https://localhost:8080/",
          "height": 406
        },
        "id": "LQKhSQB69WH_",
        "outputId": "a84cd528-fd61-4e05-a030-b27b38cee594"
      },
      "execution_count": 19,
      "outputs": [
        {
          "output_type": "display_data",
          "data": {
            "text/plain": [
              "<Figure size 640x480 with 1 Axes>"
            ],
            "image/png": "[encoded data removed]"
          },
          "metadata": {}
        }
      ]
    },
    {
      "cell_type": "markdown",
      "source": [
        "a) Determinar la red de menor costo:"
      ],
      "metadata": {
        "id": "5mGXFK_i9izj"
      }
    },
    {
      "cell_type": "code",
      "source": [
        "T=arbol_expan(G, \"weight\")\n",
        "print(\"Solución. La red de menor costo es:\")\n",
        "for u,v,data in T.edges(data=True):\n",
        "  print(u, \"hacia\", v,\"con longitud de\", data.get(\"weight\"))\n",
        "suma=sum(data['weight'] for u,v,data in T.edges(data=True))\n",
        "print(\"La distancia total es:\", suma)"
      ],
      "metadata": {
        "colab": {
          "base_uri": "https://localhost:8080/"
        },
        "id": "dOHNuLx0-CHO",
        "outputId": "7dfce38d-4c94-4f6b-8b8c-b80520acc3d5"
      },
      "execution_count": 30,
      "outputs": [
        {
          "output_type": "stream",
          "name": "stdout",
          "text": [
            "Solución. La red de menor costo es:\n",
            "1 hacia 2 con longitud de 1\n",
            "1 hacia 3 con longitud de 5\n",
            "2 hacia 5 con longitud de 3\n",
            "2 hacia 4 con longitud de 4\n",
            "4 hacia 6 con longitud de 3\n",
            "La distancia total es: 16\n"
          ]
        }
      ]
    },
    {
      "cell_type": "markdown",
      "source": [
        "##**Ruta más corta.**\n",
        "\n",
        "*Se devuelve la ruta más corta en G y su longitud.*"
      ],
      "metadata": {
        "id": "HijGBp6G_M4y"
      }
    },
    {
      "cell_type": "code",
      "source": [
        "def ruta_corta(G1, source, target, weight):\n",
        "  length, path = nx.single_source_dijkstra(G1, source, weight=weight)\n",
        "  return path[target], length[target]"
      ],
      "metadata": {
        "id": "pOEWgtAqDqzj"
      },
      "execution_count": 56,
      "outputs": []
    },
    {
      "cell_type": "code",
      "source": [
        "#Utilizamos ejemplo de clase\n",
        "G1=nx.Graph()\n",
        "G1.add_edge(\"1\",\"2\",capacity=1, weight=100)\n",
        "G1.add_edge(\"1\", \"3\", capacity=1, weight=30)\n",
        "G1.add_edge(\"2\", \"3\", capacity=1, weight=20)\n",
        "G1.add_edge(\"2\", \"4\", capacity=1, weight=15)\n",
        "G1.add_edge(\"3\", \"4\", capacity=1, weight=10)\n",
        "G1.add_edge(\"3\", \"5\", capacity=1, weight=20)\n",
        "G1.add_edge(\"4\", \"5\", capacity=1, weight=50)"
      ],
      "metadata": {
        "id": "0lbIB8LxBtik"
      },
      "execution_count": 34,
      "outputs": []
    },
    {
      "cell_type": "code",
      "source": [
        "G1\n",
        "nx.draw_networkx(G1)"
      ],
      "metadata": {
        "colab": {
          "base_uri": "https://localhost:8080/",
          "height": 406
        },
        "id": "7QSZGecpC0FY",
        "outputId": "30852c20-eb48-49b4-ad89-a7d93c56ff74"
      },
      "execution_count": 40,
      "outputs": [
        {
          "output_type": "display_data",
          "data": {
            "text/plain": [
              "<Figure size 640x480 with 1 Axes>"
            ],
            "image/png": "[encoded data removed]"
          },
          "metadata": {}
        }
      ]
    },
    {
      "cell_type": "markdown",
      "source": [
        "*Calculamos la ruta más corta de 1 y 5*.\n"
      ],
      "metadata": {
        "id": "AhBP696EDEj8"
      }
    },
    {
      "cell_type": "code",
      "source": [
        "#Utilizamos ejemplo de clase\n",
        "path, dist=ruta_corta(G1, \"1\", \"5\", \"weight\")\n",
        "print(\"La ruta mas corta es:\", path)\n",
        "print(\"La distancia es:\", dist)"
      ],
      "metadata": {
        "colab": {
          "base_uri": "https://localhost:8080/"
        },
        "id": "d-_DmwC3DJ0y",
        "outputId": "1beb0596-55d1-4e84-ed33-581326401b7b"
      },
      "execution_count": 57,
      "outputs": [
        {
          "output_type": "stream",
          "name": "stdout",
          "text": [
            "La ruta mas corta es: ['1', '3', '5']\n",
            "La distancia es: 50\n"
          ]
        }
      ]
    },
    {
      "cell_type": "markdown",
      "source": [
        "##**Flujo máximo.**\n",
        "\n",
        "*Se calcula un flujo maximo entre. dos en un grafo dirigido en G.*"
      ],
      "metadata": {
        "id": "8oM3xGKtEwh8"
      }
    },
    {
      "cell_type": "code",
      "source": [
        "def flujo_max(G2, source, sink, capacity):\n",
        "  return nx.maximum_flow(G2, source, sink, capacity)\n",
        ""
      ],
      "metadata": {
        "id": "wGsUq_NNE8xW"
      },
      "execution_count": 58,
      "outputs": []
    },
    {
      "cell_type": "code",
      "source": [
        "#ejemplo de clase\n",
        "G2=nx.Graph()\n",
        "G2.add_edge(\"A\",\"B\",capacity=1, weight=9)\n",
        "G2.add_edge(\"A\", \"C\", capacity=1, weight=7)\n",
        "G2.add_edge(\"B\", \"D\", capacity=1, weight=7)\n",
        "G2.add_edge(\"B\", \"E\", capacity=1, weight=2)\n",
        "G2.add_edge(\"C\", \"D\", capacity=1, weight=4)\n",
        "G2.add_edge(\"C\", \"E\", capacity=1, weight=6)\n",
        "G2.add_edge(\"D\", \"E\", capacity=1, weight=3)\n",
        "G2.add_edge(\"D\", \"F\", capacity=1, weight=6)\n",
        "G2.add_edge(\"E\", \"F\", capacity=1, weight=9)"
      ],
      "metadata": {
        "id": "7LtoVaVvFM_c"
      },
      "execution_count": 59,
      "outputs": []
    },
    {
      "cell_type": "code",
      "source": [
        "G2\n",
        "nx.draw_networkx(G2)"
      ],
      "metadata": {
        "colab": {
          "base_uri": "https://localhost:8080/",
          "height": 406
        },
        "id": "aNbhK6nPGxQF",
        "outputId": "ab8ad094-7d55-4b84-9201-9afb5d221c37"
      },
      "execution_count": 60,
      "outputs": [
        {
          "output_type": "display_data",
          "data": {
            "text/plain": [
              "<Figure size 640x480 with 1 Axes>"
            ],
            "image/png": "[encoded data removed]"
          },
          "metadata": {}
        }
      ]
    }
  ]
}